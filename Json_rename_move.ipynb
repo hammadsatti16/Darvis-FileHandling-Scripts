{
 "cells": [
  {
   "cell_type": "code",
   "execution_count": 15,
   "id": "020919da",
   "metadata": {},
   "outputs": [],
   "source": [
    "def extract_zip(path_file,root,i):\n",
    "    zip_file = zipfile.ZipFile(path_file)\n",
    "    for names in zip_file.namelist():\n",
    "        path_files=root+\"/\"+ f'{i}'\n",
    "        zip_file.extract(names,path_files)\n",
    "        zip_file.close()\n",
    "        reanaming(root,source,i)"
   ]
  },
  {
   "cell_type": "code",
   "execution_count": 16,
   "id": "f53944a8",
   "metadata": {},
   "outputs": [],
   "source": [
    "def reanaming(path_files,source,i):\n",
    "    path = path_files + f'{i}'\n",
    "    for root, subdirs, files in os.walk(path):\n",
    "        for name in files:\n",
    "            if name.endswith(\".json\"):\n",
    "                os.rename(path_files+f\"{i}\"+\"/annotations\"+\"/\"+name, os.path.join(path_files,f'{i}' + \".json\"))\n",
    "                remove_files(path_files,source,i)"
   ]
  },
  {
   "cell_type": "code",
   "execution_count": 17,
   "id": "bcacd20b",
   "metadata": {},
   "outputs": [],
   "source": [
    "def remove_files(path_files,source,i):\n",
    "    path = path_files + f'{i}'\n",
    "    shutil.rmtree(path)"
   ]
  },
  {
   "cell_type": "code",
   "execution_count": 18,
   "id": "ae46ba3e",
   "metadata": {},
   "outputs": [],
   "source": [
    "def arr_rem(source,i):\n",
    "    for root, subdirs, files in os.walk(source):\n",
    "        for name in files:\n",
    "            if name.endswith(\".json\"):\n",
    "                if os.path.isdir(root+\"/\"+\"Annotations\"):\n",
    "                    path_file = os.path.join(root,name)\n",
    "                    shutil.move(path_file ,root+\"/\"+\"Annotations\")\n",
    "                else:\n",
    "                    os.mkdir(root+\"/\" + \"Annotations\")\n",
    "                    path_file = os.path.join(root,name)\n",
    "                    shutil.move(path_file ,root+\"/\"+\"Annotations\")\n"
   ]
  },
  {
   "cell_type": "code",
   "execution_count": 12,
   "id": "552ab053",
   "metadata": {},
   "outputs": [],
   "source": [
    "def move_zip(source,i):\n",
    "    for root, subdirs, files in os.walk(source):\n",
    "        for name in files:\n",
    "            if name.endswith(\"zip\"):\n",
    "                if os.path.isdir(root+\"/\"+\"Annotations Zip\"):\n",
    "                    path_file = os.path.join(root,name)\n",
    "                    shutil.move(path_file,root+\"/\"+\"Annotations Zip\")\n",
    "                else:\n",
    "                    os.mkdir(root+\"/\" + \"Annotations Zip\")\n",
    "                    path_file = os.path.join(root,name)\n",
    "                    shutil.move(path_file,root+\"/\"+\"Annotations Zip\")"
   ]
  },
  {
   "cell_type": "code",
   "execution_count": 21,
   "id": "e1e28106",
   "metadata": {},
   "outputs": [],
   "source": [
    "import os \n",
    "import shutil\n",
    "import zipfile\n",
    "source = \"C:/Users/Darvis/Downloads/sprint/sprint/\"\n",
    "folder = \"task_sprint 54- ask-kit-2-15-jan-\"\n",
    "i=1\n",
    "for files in os.listdir(source):\n",
    "        path_file = os.path.join(source,files)\n",
    "        extract_zip(path_file,source,i)\n",
    "        i=i+1\n",
    "move_zip(source,i)\n",
    "arr_rem(source,i)"
   ]
  },
  {
   "cell_type": "code",
   "execution_count": null,
   "id": "557dc0bc",
   "metadata": {},
   "outputs": [],
   "source": []
  }
 ],
 "metadata": {
  "kernelspec": {
   "display_name": "Python 3 (ipykernel)",
   "language": "python",
   "name": "python3"
  },
  "language_info": {
   "codemirror_mode": {
    "name": "ipython",
    "version": 3
   },
   "file_extension": ".py",
   "mimetype": "text/x-python",
   "name": "python",
   "nbconvert_exporter": "python",
   "pygments_lexer": "ipython3",
   "version": "3.9.7"
  }
 },
 "nbformat": 4,
 "nbformat_minor": 5
}
