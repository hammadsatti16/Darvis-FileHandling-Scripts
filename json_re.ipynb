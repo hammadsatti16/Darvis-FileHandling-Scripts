{
 "cells": [
  {
   "cell_type": "code",
   "execution_count": 12,
   "id": "7341fa27",
   "metadata": {},
   "outputs": [],
   "source": [
    "def extract_zip(path_file,root,i):\n",
    "    zip_file = zipfile.ZipFile(path_file)\n",
    "    for names in zip_file.namelist():\n",
    "        path_files=root+\"/\"+ f'{i}'\n",
    "        zip_file.extract(names,path_files)\n",
    "        zip_file.close()\n",
    "    reanaming(path_files,i)"
   ]
  },
  {
   "cell_type": "code",
   "execution_count": 13,
   "id": "85601009",
   "metadata": {},
   "outputs": [],
   "source": [
    "def reanaming(path_files,i):\n",
    "    for root, subdirs, files in os.walk(path_files):\n",
    "        for name in files:\n",
    "            if name.endswith(\".json\"):\n",
    "                os.rename(path_files+\"/\"+\"annotations\"+\"/\"+name, os.path.join(path_files,f'{i}' + \".json\"))\n",
    "                remove_files(path_files,i)"
   ]
  },
  {
   "cell_type": "code",
   "execution_count": 14,
   "id": "8b8eff3a",
   "metadata": {},
   "outputs": [],
   "source": [
    "def remove_files(path_files,i):\n",
    "    for root, subdirs, files in os.walk(path_files):\n",
    "        for name in files:\n",
    "            if name.endswith(\".json\"):\n",
    "                os.rmdir(root+\"/\"+\"annotations\")\n",
    "                arr_rem(path_files,i)"
   ]
  },
  {
   "cell_type": "code",
   "execution_count": 15,
   "id": "62c4928d",
   "metadata": {},
   "outputs": [],
   "source": [
    "def arr_rem(path_files,i):\n",
    "    for roots, subdirs, files in os.walk(path_files):\n",
    "        for name in files:\n",
    "            if name.endswith(\".json\"):\n",
    "                if os.path.isdir(root+\"/\"+\"Annotations\"):\n",
    "                    path_file = os.path.join(roots,name)\n",
    "                    shutil.copy(path_file,root+\"/\"+\"Annotations\")\n",
    "                else:\n",
    "                    os.mkdir(root+\"/\" + \"Annotations\")\n",
    "                    path_file = os.path.join(roots,name)\n",
    "                    shutil.copy(path_file,root+\"/\"+\"Annotations\")\n",
    "    remove_folders(path_files,i)\n"
   ]
  },
  {
   "cell_type": "code",
   "execution_count": 16,
   "id": "063dfc6f",
   "metadata": {},
   "outputs": [],
   "source": [
    "def remove_folders(path_files,i):\n",
    "    for root, subdirs, files in os.walk(path_files):\n",
    "        for name in files:\n",
    "            if name.endswith(\".json\"):\n",
    "                shutil.rmtree(root+\"/\")\n"
   ]
  },
  {
   "cell_type": "code",
   "execution_count": 23,
   "id": "b72c3e13",
   "metadata": {},
   "outputs": [],
   "source": [
    "def move_zip(path_files,i):\n",
    "    for root, subdirs, files in os.walk(source):\n",
    "        for name in files:\n",
    "            if name.endswith(\"zip\"):\n",
    "                if os.path.isdir(root+\"/\"+\"Annotations Zip\"):\n",
    "                    path_file = os.path.join(root,name)\n",
    "                    shutil.move(path_file,root+\"/\"+\"Annotations Zip\")\n",
    "                else:\n",
    "                    os.mkdir(root+\"/\" + \"Annotations Zip\")\n",
    "                    path_file = os.path.join(root,name)\n",
    "                    shutil.move(path_file,root+\"/\"+\"Annotations Zip\")"
   ]
  },
  {
   "cell_type": "code",
   "execution_count": 27,
   "id": "dc77f626",
   "metadata": {},
   "outputs": [
    {
     "name": "stdout",
     "output_type": "stream",
     "text": [
      "task_sprint 54- ask-kit-1-15-jan-1-2022_02_17_07_55_22-coco 1.0.zip\n",
      "task_sprint 54- ask-kit-1-15-jan-10-2022_02_08_12_24_21-coco 1.0.zip\n",
      "task_sprint 54- ask-kit-1-15-jan-11-2022_02_08_11_52_14-coco 1.0.zip\n",
      "task_sprint 54- ask-kit-1-15-jan-12-2022_02_17_08_08_42-coco 1.0.zip\n",
      "task_sprint 54- ask-kit-1-15-jan-13-2022_02_17_08_16_35-coco 1.0.zip\n",
      "task_sprint 54- ask-kit-1-15-jan-14-2022_02_09_12_24_48-coco 1.0.zip\n",
      "task_sprint 54- ask-kit-1-15-jan-15-2022_02_09_12_27_02-coco 1.0.zip\n",
      "task_sprint 54- ask-kit-1-15-jan-16-2022_02_17_08_50_27-coco 1.0.zip\n",
      "task_sprint 54- ask-kit-1-15-jan-17-2022_02_17_08_36_35-coco 1.0.zip\n",
      "task_sprint 54- ask-kit-1-15-jan-18-2022_02_16_10_41_56-coco 1.0.zip\n",
      "task_sprint 54- ask-kit-1-15-jan-19-2022_02_17_09_34_17-coco 1.0.zip\n",
      "task_sprint 54- ask-kit-1-15-jan-2-2022_02_09_10_53_34-coco 1.0.zip\n",
      "task_sprint 54- ask-kit-1-15-jan-20-2022_02_17_07_45_59-coco 1.0.zip\n",
      "task_sprint 54- ask-kit-1-15-jan-21-2022_02_17_07_39_06-coco 1.0.zip\n",
      "task_sprint 54- ask-kit-1-15-jan-22-2022_02_17_08_21_56-coco 1.0.zip\n",
      "task_sprint 54- ask-kit-1-15-jan-23-2022_02_09_12_28_19-coco 1.0.zip\n",
      "task_sprint 54- ask-kit-1-15-jan-24-2022_02_17_12_17_20-coco 1.0.zip\n",
      "task_sprint 54- ask-kit-1-15-jan-25-2022_02_08_12_32_08-coco 1.0.zip\n",
      "task_sprint 54- ask-kit-1-15-jan-26-2022_02_17_07_21_28-coco 1.0.zip\n",
      "task_sprint 54- ask-kit-1-15-jan-27-2022_02_17_08_14_40-coco 1.0.zip\n",
      "task_sprint 54- ask-kit-1-15-jan-3-2022_02_09_11_16_38-coco 1.0.zip\n",
      "task_sprint 54- ask-kit-1-15-jan-4-2022_02_17_07_35_42-coco 1.0.zip\n",
      "task_sprint 54- ask-kit-1-15-jan-5-2022_02_17_08_04_49-coco 1.0.zip\n",
      "task_sprint 54- ask-kit-1-15-jan-6-2022_02_09_11_43_28-coco 1.0.zip\n",
      "task_sprint 54- ask-kit-1-15-jan-7-2022_02_09_12_05_10-coco 1.0.zip\n",
      "task_sprint 54- ask-kit-1-15-jan-8-2022_02_17_08_05_35-coco 1.0.zip\n",
      "task_sprint 54- ask-kit-1-15-jan-9-2022_02_17_07_50_22-coco 1.0.zip\n"
     ]
    }
   ],
   "source": [
    "import os \n",
    "import shutil\n",
    "import zipfile\n",
    "source = \"C:/Users/Darvis/Downloads/Sprint 54- ask-kit-1-15-Jan/Sprint 54- ask-kit-1-15-Jan\"\n",
    "folder = \"task_sprint 54- ask-kit-1-15-jan-\"\n",
    "i=1\n",
    "for root , dirs, files in os.walk(source):\n",
    "        for file in files:\n",
    "            print(file)\n",
    "            if file.startswith(folder+f'{i}'):\n",
    "                if file.endswith('zip'):\n",
    "                    if os.path.isdir(root+\"/\"+ f'{i}'):\n",
    "                        path_file = os.path.join(root,file)\n",
    "                        extract_zip(path_file,root,i)\n",
    "                        i=i+1\n",
    "                    else:\n",
    "                        os.mkdir(root+\"/\"+ f'{i}')\n",
    "                        path_file = os.path.join(root,file)\n",
    "                        extract_zip(path_file,root,i)\n",
    "                        i=i+1\n",
    "move_zip(source,i)"
   ]
  },
  {
   "cell_type": "code",
   "execution_count": null,
   "id": "20d74328",
   "metadata": {},
   "outputs": [],
   "source": []
  }
 ],
 "metadata": {
  "kernelspec": {
   "display_name": "Python 3 (ipykernel)",
   "language": "python",
   "name": "python3"
  },
  "language_info": {
   "codemirror_mode": {
    "name": "ipython",
    "version": 3
   },
   "file_extension": ".py",
   "mimetype": "text/x-python",
   "name": "python",
   "nbconvert_exporter": "python",
   "pygments_lexer": "ipython3",
   "version": "3.9.7"
  }
 },
 "nbformat": 4,
 "nbformat_minor": 5
}
