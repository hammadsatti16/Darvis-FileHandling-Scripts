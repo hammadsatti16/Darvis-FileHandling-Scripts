{
 "cells": [
  {
   "cell_type": "code",
   "execution_count": 1,
   "id": "de6f0812",
   "metadata": {},
   "outputs": [],
   "source": [
    "import os\n",
    "import PIL\n",
    "from PIL import Image\n",
    "import shutil\n",
    "import time"
   ]
  },
  {
   "cell_type": "code",
   "execution_count": 2,
   "id": "90a28312",
   "metadata": {},
   "outputs": [],
   "source": [
    "def rename_image(path,filename,source):\n",
    "    my_dest =f\"{str(time.time())}.jpg\"\n",
    "    my_source =path + \"/\"+filename\n",
    "    my_dest =path + \"/\" +my_dest\n",
    "    os.rename(my_source, my_dest)\n",
    "    move_image(path,filename,my_dest,source)"
   ]
  },
  {
   "cell_type": "code",
   "execution_count": 3,
   "id": "9776a071",
   "metadata": {},
   "outputs": [],
   "source": [
    "def move_image(path,filename,my_dest,source):\n",
    "    shutil.move(my_dest,source+\"/\"+\"Frames_1\")"
   ]
  },
  {
   "cell_type": "code",
   "execution_count": 4,
   "id": "86f9dc6d",
   "metadata": {},
   "outputs": [],
   "source": [
    "def main():\n",
    "    path=\"C:/Users/Darvis/Pictures/Frames\"\n",
    "    source=\"C:/Users/Darvis/Pictures\"\n",
    "    for filename in os.listdir(path):\n",
    "        im1 = Image.open(path+\"/\"+filename)\n",
    "        im1.save(f\"{str(time.time())}.jpg\")\n",
    "        rename_image(path,filename,source)\n",
    "         \n",
    "    \n",
    "if __name__ == '__main__':\n",
    "   # Calling main() function\n",
    "   main()"
   ]
  },
  {
   "cell_type": "code",
   "execution_count": null,
   "id": "4693cbc4",
   "metadata": {},
   "outputs": [],
   "source": []
  }
 ],
 "metadata": {
  "kernelspec": {
   "display_name": "Python 3 (ipykernel)",
   "language": "python",
   "name": "python3"
  },
  "language_info": {
   "codemirror_mode": {
    "name": "ipython",
    "version": 3
   },
   "file_extension": ".py",
   "mimetype": "text/x-python",
   "name": "python",
   "nbconvert_exporter": "python",
   "pygments_lexer": "ipython3",
   "version": "3.9.7"
  }
 },
 "nbformat": 4,
 "nbformat_minor": 5
}
