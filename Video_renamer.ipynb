{
 "cells": [
  {
   "cell_type": "code",
   "execution_count": 66,
   "id": "475230a1",
   "metadata": {},
   "outputs": [],
   "source": [
    "def script_rename(files,i):\n",
    "    i=1\n",
    "    for file in files:          \n",
    "        if file.startswith(f\"{i}.mp4\"):\n",
    "                path = os.path.join(source,file)\n",
    "                my_dest =f\"sc-record-{i}.mp4\"\n",
    "                my_source =source +file\n",
    "                my_dest1 =source +my_dest\n",
    "                os.rename(my_source, my_dest1)\n",
    "                \n",
    "                i=i+1"
   ]
  },
  {
   "cell_type": "code",
   "execution_count": 67,
   "id": "95f7aac6",
   "metadata": {},
   "outputs": [],
   "source": [
    "def formatfactory_rename(files,i):\n",
    "    i=1\n",
    "    for file in files:\n",
    "        if file.startswith(f\"113-FallingPrevention\"):\n",
    "            path = os.path.join(source,file)\n",
    "            my_dest =f\"ff-record-{i}.mp4\"\n",
    "            my_source =source +file\n",
    "            my_dest1 =source +my_dest\n",
    "            os.rename(my_source, my_dest1)\n",
    "                \n",
    "            i=i+1"
   ]
  },
  {
   "cell_type": "code",
   "execution_count": 68,
   "id": "e2e5dc77",
   "metadata": {},
   "outputs": [],
   "source": [
    "def vlc_rename(files,i):\n",
    "    i=1\n",
    "    for file in files:\n",
    "        if file.startswith(f\"vlc-record-2022-\"):\n",
    "            path = os.path.join(source,file)\n",
    "            my_dest =f\"vlc-record-{i}.mp4\"\n",
    "            my_source =source +file\n",
    "            my_dest1 =source +my_dest\n",
    "            os.rename(my_source, my_dest1)\n",
    "                \n",
    "            i=i+1"
   ]
  },
  {
   "cell_type": "code",
   "execution_count": 74,
   "id": "37046e9b",
   "metadata": {},
   "outputs": [],
   "source": [
    "import os \n",
    "import shutil\n",
    "import zipfile\n",
    "source = \"C:/Users/Darvis/Downloads/DATASET/fall_prevention/tier_4/\"\n",
    "i=1\n",
    "for root , dirs, files in os.walk(source):\n",
    "    script_rename(files,i)\n",
    "    vlc_rename(files,i)\n",
    "    formatfactory_rename(files,i)"
   ]
  },
  {
   "cell_type": "code",
   "execution_count": null,
   "id": "80b46d8e",
   "metadata": {},
   "outputs": [],
   "source": []
  }
 ],
 "metadata": {
  "kernelspec": {
   "display_name": "Python 3 (ipykernel)",
   "language": "python",
   "name": "python3"
  },
  "language_info": {
   "codemirror_mode": {
    "name": "ipython",
    "version": 3
   },
   "file_extension": ".py",
   "mimetype": "text/x-python",
   "name": "python",
   "nbconvert_exporter": "python",
   "pygments_lexer": "ipython3",
   "version": "3.9.7"
  }
 },
 "nbformat": 4,
 "nbformat_minor": 5
}
