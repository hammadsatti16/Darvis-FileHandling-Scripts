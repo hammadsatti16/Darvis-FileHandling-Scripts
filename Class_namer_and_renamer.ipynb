{
 "cells": [
  {
   "cell_type": "code",
   "execution_count": 94,
   "id": "ab7f183c",
   "metadata": {},
   "outputs": [],
   "source": [
    "check_classes  = ['clean_2_accessory_rails_under_lying_surface', 'clean_all_4_crossbars_of_bed', 'clean_foot_section_of_bed_(outside)', 'clean_head_part_of_bed_(inside)', 'clean_lying_surface_of_bed', 'clean_lying_surface_of_mattress', 'clean_supervisor_board', 'clean_transport_handle_at_foot_section', 'clean_transport_handle_at_head_of_bed', 'clean_underside_of_mattress', 'lift_mattress_foot', 'lift_mattress_head', 'put_mattress_back', 'clean_all_castors_and_break_pedals', 'clean_foot_section_of_bed_(inside)', 'clean_head_part_of_bed_(outside)', 'clean_power_cable']"
   ]
  },
  {
   "cell_type": "code",
   "execution_count": 218,
   "id": "5e3321b4",
   "metadata": {},
   "outputs": [
    {
     "name": "stderr",
     "output_type": "stream",
     "text": [
      "100%|██████████| 41/41 [01:23<00:00,  2.04s/it]\n"
     ]
    }
   ],
   "source": [
    "import fnmatch\n",
    "import os\n",
    "import time\n",
    "from tqdm import tqdm\n",
    "rootPath = 'C:/Users/Darvis/Downloads/WIBO_DATA_CHECK/Week 25-02-2022/Bed Dataset_25 -02-2022/iPad Footage/'\n",
    "pattern = '*.mp4'\n",
    "classes1=[]\n",
    "classes=[]\n",
    "dir_1=[]\n",
    "root1=[]\n",
    "j=0          \n",
    "k=0\n",
    "for root, dirs, files in tqdm(list(os.walk(rootPath))):\n",
    "    for file in files:\n",
    "        if file.endswith(\".mp4\"):\n",
    "            dir0=os.path.join(root+\"/\", file)\n",
    "            dir1 = dir0.split(\"/\")[-2]\n",
    "            dir2 = dir1.split(\"/\")[-1]\n",
    "            root1.append(root)\n",
    "            dir_1.append(dir)\n",
    "            class1 = dir1.split(\"//\")[-1]\n",
    "            if class1 not in classes1:\n",
    "                classes1.append(class1)\n",
    "            if  dir2 in dir1:\n",
    "                dir3 = dir1.split(\"\\\\\")[-1]\n",
    "                if dir3 not in classes:\n",
    "                    classes.append(dir3)\n",
    "                my_dest =f\"{dir3}-{time.time()}.mp4\"\n",
    "                time.sleep(1)\n",
    "                my_source = rootPath+dir2+\"/\"+file\n",
    "                my_dest1 =rootPath+dir2+\"/\"+my_dest\n",
    "                os.rename(my_source, my_dest1)\n",
    "                j=j+1"
   ]
  },
  {
   "cell_type": "code",
   "execution_count": null,
   "id": "7a302ab0",
   "metadata": {},
   "outputs": [],
   "source": []
  }
 ],
 "metadata": {
  "kernelspec": {
   "display_name": "Python 3 (ipykernel)",
   "language": "python",
   "name": "python3"
  },
  "language_info": {
   "codemirror_mode": {
    "name": "ipython",
    "version": 3
   },
   "file_extension": ".py",
   "mimetype": "text/x-python",
   "name": "python",
   "nbconvert_exporter": "python",
   "pygments_lexer": "ipython3",
   "version": "3.9.7"
  }
 },
 "nbformat": 4,
 "nbformat_minor": 5
}
