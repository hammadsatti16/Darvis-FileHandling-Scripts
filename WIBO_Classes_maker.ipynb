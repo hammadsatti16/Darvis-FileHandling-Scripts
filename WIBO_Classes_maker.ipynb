{
 "cells": [
  {
   "cell_type": "code",
   "execution_count": 218,
   "id": "12b87673",
   "metadata": {},
   "outputs": [],
   "source": [
    "import fnmatch\n",
    "from tqdm import tqdm\n",
    "import os\n",
    "import time\n",
    "import pandas"
   ]
  },
  {
   "cell_type": "code",
   "execution_count": 229,
   "id": "c8382faf",
   "metadata": {},
   "outputs": [],
   "source": [
    "def make_folders(i,Classes_path):\n",
    "    if os.path.isdir(Classes_path+i):\n",
    "        print()\n",
    "    else:\n",
    "        os.mkdir(Classes_path+i)"
   ]
  },
  {
   "cell_type": "code",
   "execution_count": 230,
   "id": "cdd3b18f",
   "metadata": {},
   "outputs": [],
   "source": [
    "def read_classes(rootPath):\n",
    "    with open(rootPath, \"r\") as f:\n",
    "        text = f.readlines()\n",
    "    return text"
   ]
  },
  {
   "cell_type": "code",
   "execution_count": 231,
   "id": "49a2b37b",
   "metadata": {},
   "outputs": [],
   "source": [
    "def classes_arrange(Class):\n",
    "    classes=[i.strip() for i in Class]\n",
    "    for i in tqdm(classes):\n",
    "        make_folders(i,Classes_path)\n",
    "    return classes"
   ]
  },
  {
   "cell_type": "code",
   "execution_count": 232,
   "id": "df33fa0a",
   "metadata": {},
   "outputs": [],
   "source": [
    "def main():\n",
    "    Classes_path=\"C:/Users/Darvis/Downloads/NEW_BED_TRACKING/WEEK ENDING 28_1_22/Wibo-German_ANGLE 003/Classes/\"\n",
    "    rootPath = 'C:/Users/Darvis/Documents/bed_cleaning_classes.txt'\n",
    "    classes=[]\n",
    "    Class = read_classes(rootPath)\n",
    "    Classes_wibo=classes_arrange(Class)\n"
   ]
  },
  {
   "cell_type": "code",
   "execution_count": 233,
   "id": "ddfdcda8",
   "metadata": {},
   "outputs": [
    {
     "name": "stderr",
     "output_type": "stream",
     "text": [
      "100%|██████████| 17/17 [00:00<00:00, 1545.53it/s]\n"
     ]
    }
   ],
   "source": [
    "if __name__ == '__main__':\n",
    "    main()"
   ]
  }
 ],
 "metadata": {
  "kernelspec": {
   "display_name": "Python 3 (ipykernel)",
   "language": "python",
   "name": "python3"
  },
  "language_info": {
   "codemirror_mode": {
    "name": "ipython",
    "version": 3
   },
   "file_extension": ".py",
   "mimetype": "text/x-python",
   "name": "python",
   "nbconvert_exporter": "python",
   "pygments_lexer": "ipython3",
   "version": "3.9.7"
  }
 },
 "nbformat": 4,
 "nbformat_minor": 5
}
