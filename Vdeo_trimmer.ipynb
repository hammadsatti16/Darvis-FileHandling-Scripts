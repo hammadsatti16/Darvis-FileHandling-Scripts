{
 "cells": [
  {
   "cell_type": "code",
   "execution_count": 1,
   "id": "379cbf38",
   "metadata": {},
   "outputs": [],
   "source": [
    "def txt_files(txt_file):\n",
    "    with open(txt_file) as f:\n",
    "        t = f.readlines()\n",
    "        return t"
   ]
  },
  {
   "cell_type": "code",
   "execution_count": 2,
   "id": "6876d230",
   "metadata": {},
   "outputs": [],
   "source": [
    "def action_time(t):\n",
    "    action_t = [x.strip() for x in t]\n",
    "    print(\"After stripping white spaces: \",action_t)\n",
    "    start_time(action_t)\n",
    "    end_time(action_t)\n",
    "    return action_t"
   ]
  },
  {
   "cell_type": "code",
   "execution_count": 3,
   "id": "04ff5db1",
   "metadata": {},
   "outputs": [],
   "source": [
    "def start_time(action_t):\n",
    "    Start = []\n",
    "    for action in action_t:\n",
    "        St = action.split(\"-\")[0]\n",
    "        Start.append(St)\n",
    "    print(\"The End Times of videos to be trimmed are: \",Start)"
   ]
  },
  {
   "cell_type": "code",
   "execution_count": 4,
   "id": "109feca3",
   "metadata": {},
   "outputs": [],
   "source": [
    "def end_time(action_t):\n",
    "    End = []\n",
    "    for action in action_t:\n",
    "        Et = action.split(\"-\")[1]\n",
    "        End.append(Et)\n",
    "    print(\"The End Times of videos to be trimmed are: \",End)"
   ]
  },
  {
   "cell_type": "code",
   "execution_count": 5,
   "id": "53231458",
   "metadata": {},
   "outputs": [],
   "source": [
    "def trim(video_name,action_t):\n",
    "    i=0\n",
    "    for action in action_t:\n",
    "        St = action.split(\"-\")[0]\n",
    "        Et = action.split(\"-\")[1]\n",
    "        St = int(St)\n",
    "        Et = int(Et)\n",
    "        ffmpeg_extract_subclip(video_name, St, Et, targetname=\"C:/Users/Darvis/Documents/Trimmed/\"+str(i+1)+\".mp4\")\n",
    "        i=i+1"
   ]
  },
  {
   "cell_type": "code",
   "execution_count": 11,
   "id": "db608f1a",
   "metadata": {},
   "outputs": [],
   "source": [
    "def folder_check():\n",
    "    for folders in os.listdir(\"C:/Users/Darvis/Documents\"):\n",
    "        if os.path.isdir(\"C:/Users/Darvis/Documents/Trimmed\"):\n",
    "            i = 0\n",
    "        else:\n",
    "            os.mkdir(\"C:/Users/Darvis/Documents\"+\"/Trimmed\")"
   ]
  },
  {
   "cell_type": "code",
   "execution_count": 18,
   "id": "71b7681d",
   "metadata": {},
   "outputs": [],
   "source": [
    "from moviepy.video.io.ffmpeg_tools import ffmpeg_extract_subclip\n",
    "import os\n",
    "def main():\n",
    "    txt_file = \"C:/Users/Darvis/Documents/action.txt\"\n",
    "    video_name = \"C:/Users/Darvis/Documents/Video/Section2.0-2.3_bedcleaning_AllieActor_1.mp4 \"\n",
    "    folder_check()\n",
    "    trim(video_name,action_time(txt_files(txt_file)))"
   ]
  },
  {
   "cell_type": "code",
   "execution_count": 19,
   "id": "cbdc80a8",
   "metadata": {},
   "outputs": [
    {
     "name": "stdout",
     "output_type": "stream",
     "text": [
      "After stripping white spaces:  ['15-19', '30-35', '36-40', '41-45', '63-68', '69-74', '75-79', '80-83', '84-88']\n",
      "The End Times of videos to be trimmed are:  ['15', '30', '36', '41', '63', '69', '75', '80', '84']\n",
      "The End Times of videos to be trimmed are:  ['19', '35', '40', '45', '68', '74', '79', '83', '88']\n",
      "Moviepy - Running:\n",
      ">>> \"+ \" \".join(cmd)\n",
      "Moviepy - Command successful\n",
      "Moviepy - Running:\n",
      ">>> \"+ \" \".join(cmd)\n",
      "Moviepy - Command successful\n",
      "Moviepy - Running:\n",
      ">>> \"+ \" \".join(cmd)\n",
      "Moviepy - Command successful\n",
      "Moviepy - Running:\n",
      ">>> \"+ \" \".join(cmd)\n",
      "Moviepy - Command successful\n",
      "Moviepy - Running:\n",
      ">>> \"+ \" \".join(cmd)\n",
      "Moviepy - Command successful\n",
      "Moviepy - Running:\n",
      ">>> \"+ \" \".join(cmd)\n",
      "Moviepy - Command successful\n",
      "Moviepy - Running:\n",
      ">>> \"+ \" \".join(cmd)\n",
      "Moviepy - Command successful\n",
      "Moviepy - Running:\n",
      ">>> \"+ \" \".join(cmd)\n",
      "Moviepy - Command successful\n",
      "Moviepy - Running:\n",
      ">>> \"+ \" \".join(cmd)\n",
      "Moviepy - Command successful\n"
     ]
    }
   ],
   "source": [
    "if __name__ == '__main__':\n",
    "    main()"
   ]
  },
  {
   "cell_type": "code",
   "execution_count": 16,
   "id": "88897e1d",
   "metadata": {},
   "outputs": [],
   "source": [
    "import cv2\n",
    "def video_to_mp4(input, output, fps: int = 0, frame_size: tuple = (), fourcc: str = \"H264\"):\n",
    "    vidcap = cv2.VideoCapture(input)\n",
    "    if not fps:\n",
    "        fps = round(vidcap.get(cv2.CAP_PROP_FPS))\n",
    "    success, arr = vidcap.read()\n",
    "    if not frame_size:\n",
    "        height, width, _ = arr.shape\n",
    "        frame_size = width, height\n",
    "    writer = cv2.VideoWriter(\n",
    "        output,\n",
    "        apiPreference=0,\n",
    "        fourcc=cv2.VideoWriter_fourcc(*fourcc),\n",
    "        fps=fps,\n",
    "        frameSize=frame_size\n",
    "    )\n",
    "    while True:\n",
    "        if not success:\n",
    "            break\n",
    "        writer.write(arr)\n",
    "        success, arr = vidcap.read()\n",
    "    writer.release()\n",
    "    vidcap.release()"
   ]
  },
  {
   "cell_type": "code",
   "execution_count": 17,
   "id": "dc27ed3c",
   "metadata": {},
   "outputs": [],
   "source": [
    "video_to_mp4(\"C:/Users/Darvis/Documents/Video/89_bedcleaning2.0-2.3_02.22.2022_CoreyActor.mp4\", output=\"C:/Users/Darvis/Documents/Video/Section2.0-2.3_bedcleaning_AllieActor_1.mp4\")"
   ]
  },
  {
   "cell_type": "code",
   "execution_count": null,
   "id": "02c6a3f5",
   "metadata": {},
   "outputs": [],
   "source": []
  }
 ],
 "metadata": {
  "kernelspec": {
   "display_name": "Python 3 (ipykernel)",
   "language": "python",
   "name": "python3"
  },
  "language_info": {
   "codemirror_mode": {
    "name": "ipython",
    "version": 3
   },
   "file_extension": ".py",
   "mimetype": "text/x-python",
   "name": "python",
   "nbconvert_exporter": "python",
   "pygments_lexer": "ipython3",
   "version": "3.9.7"
  }
 },
 "nbformat": 4,
 "nbformat_minor": 5
}
